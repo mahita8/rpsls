{
 "cells": [
  {
   "cell_type": "code",
   "execution_count": null,
   "metadata": {},
   "outputs": [],
   "source": [
    "rock=1\n",
    "paper=2\n",
    "scissors=3\n",
    "lizard=4\n",
    "spock=5\n",
    "ops=\"1.rock\\t2.paper\\t3.scissors\\t4.lizard\\t5.spock\"\n",
    "d={1:\"Rock\",2:\"Paper\",3:\"Scissors\",4:\"Lizard\",5:\"Spock\"}\n",
    "y=True"
   ]
  },
  {
   "cell_type": "code",
   "execution_count": null,
   "metadata": {},
   "outputs": [],
   "source": [
    "def rock(p2):\n",
    "    if(p2==3 or p2==4):\n",
    "        print(\"As Rock beats {}, PLAYER 1 wins!!CONGRATULATIONS!\".format(d[p2]))\n",
    "    else:\n",
    "        print(\"As {} beats Rock, PLAYER 2 wins!!CONGRATULATIONS!\".format(d[p2]))\n",
    "        \n",
    "def paper(p2):\n",
    "    if(p2==1 or p2==5):\n",
    "        print(\"As Paper beats {}, PLAYER 1 wins!!CONGRATULATIONS!\".format(d[p2]))\n",
    "    else:\n",
    "        print(\"As {} beats Paper, PLAYER 2 wins!!CONGRATULATIONS!\".format(d[p2]))\n",
    "        \n",
    "def scissors(p2):\n",
    "    if(p2==2 or p2==4):\n",
    "        print(\"As Scissors beats {}, PLAYER 1 wins!!CONGRATULATIONS!\".format(d[p2]))\n",
    "    else:\n",
    "        print(\"As {} beats Scissors, PLAYER 2 wins!!CONGRATULATIONS!\".format(d[p2]))\n",
    "        \n",
    "def lizard(p2):\n",
    "    if(p2==5 or p2==2):\n",
    "        print(\"As Lizard beats {}, PLAYER 1 wins!!CONGRATULATIONS!\".format(d[p2]))\n",
    "    else:\n",
    "        print(\"As {} beats Lizard, PLAYER 2 wins!!CONGRATULATIONS!\".format(d[p2]))\n",
    "        \n",
    "def spock(p2):\n",
    "    if(p2==3 or p2==1):\n",
    "        print(\"As Spock beats {}, PLAYER 1 wins!!CONGRATULATIONS!\".format(d[p2]))\n",
    "    else:\n",
    "        print(\"As {} beats Spock, PLAYER 2 wins!!CONGRATULATIONS!\".format(d[p2]))\n",
    "       \n"
   ]
  },
  {
   "cell_type": "code",
   "execution_count": null,
   "metadata": {},
   "outputs": [],
   "source": [
    "def winner(p1,p2):\n",
    "    if(p1==p2):\n",
    "        print(\"It's a tie!\")\n",
    "    else:\n",
    "        if(p1==1):\n",
    "            rock(p2)\n",
    "        elif(p1==2):\n",
    "            paper(p2)\n",
    "        elif(p1==3):\n",
    "            scissors(p2)\n",
    "        elif(p1==4):\n",
    "            lizard(p2)\n",
    "        elif(p1==5):\n",
    "            spock(p2)\n",
    "        \n"
   ]
  },
  {
   "cell_type": "code",
   "execution_count": null,
   "metadata": {},
   "outputs": [],
   "source": [
    "while(y==True):\n",
    "    print(\"Player 1, enter your option\")\n",
    "    print(ops)\n",
    "    p1=int(input())\n",
    "    print(\"Player 2, enter your option\")\n",
    "    print(ops)\n",
    "    p2=int(input())\n",
    "    if(p1>5 or p1<1 or p2>5 or p2<1):\n",
    "        print(\"Invalid option.Enter again\")\n",
    "    else:\n",
    "        print(\"Player 1 entered {}\".format(d[p1]))\n",
    "        print(\"Player 2 entered {}\".format(d[p2]))\n",
    "        winner(p1,p2)\n",
    "        print(\"Do you want to play again?(Enter y/n)\")\n",
    "        if(input()=='y'):\n",
    "            y=True\n",
    "        else:\n",
    "            y=False\n",
    "            print(\"BYE! Play again soon!\")"
   ]
  },
  {
   "cell_type": "code",
   "execution_count": null,
   "metadata": {},
   "outputs": [],
   "source": []
  },
  {
   "cell_type": "code",
   "execution_count": null,
   "metadata": {},
   "outputs": [],
   "source": []
  },
  {
   "cell_type": "code",
   "execution_count": null,
   "metadata": {},
   "outputs": [],
   "source": []
  },
  {
   "cell_type": "code",
   "execution_count": null,
   "metadata": {},
   "outputs": [],
   "source": []
  }
 ],
 "metadata": {
  "kernelspec": {
   "display_name": "Python 3",
   "language": "python",
   "name": "python3"
  },
  "language_info": {
   "codemirror_mode": {
    "name": "ipython",
    "version": 3
   },
   "file_extension": ".py",
   "mimetype": "text/x-python",
   "name": "python",
   "nbconvert_exporter": "python",
   "pygments_lexer": "ipython3",
   "version": "3.7.9"
  }
 },
 "nbformat": 4,
 "nbformat_minor": 4
}
